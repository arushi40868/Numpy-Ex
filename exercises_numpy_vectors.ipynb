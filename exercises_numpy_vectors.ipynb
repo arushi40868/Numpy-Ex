{
 "cells": [
  {
   "cell_type": "markdown",
   "id": "2cb39a9d",
   "metadata": {},
   "source": [
    "#Inequality Indexes according to the U.S. Census Bureau in 2019\n"
   ]
  },
  {
   "cell_type": "code",
   "execution_count": null,
   "id": "2be114cd",
   "metadata": {},
   "outputs": [],
   "source": [
    "# importing the libraries\n",
    "import numpy as np\n",
    "from matplotlib import pyplot as plt\n",
    "from ineqpy.inequality import gini"
   ]
  },
  {
   "cell_type": "code",
   "execution_count": null,
   "id": "105dca03",
   "metadata": {},
   "outputs": [
    {
     "name": "stdout",
     "output_type": "stream",
     "text": [
      "float64\n",
      "0.4810925546879187\n"
     ]
    },
    {
     "data": {
      "image/png": "[encoded data removed]",
      "text/plain": [
       "<Figure size 640x480 with 1 Axes>"
      ]
     },
     "metadata": {},
     "output_type": "display_data"
    }
   ],
   "source": [
    "# fetch the data and visualizing it\n",
    "your_array = np.loadtxt(\n",
    "    \"https://raw.githubusercontent.com/nickeubank/practicaldatascience/master/Example_Data/us_household_incomes.txt\"\n",
    ")\n",
    "plt.hist(your_array)\n",
    "print(your_array.dtype.name)"
   ]
  },
  {
   "cell_type": "markdown",
   "id": "cf8ccd7b",
   "metadata": {},
   "source": [
    "\n",
    "This is not a normal distribution, not uniform either. It is not equal, the graph is right skewed meaning there are top earners condensed in that range."
   ]
  },
  {
   "cell_type": "code",
   "execution_count": null,
   "id": "915903d2",
   "metadata": {},
   "outputs": [
    {
     "name": "stdout",
     "output_type": "stream",
     "text": [
      "[    0. 15980. 10000. ... 14000.  7636. 19856.]\n",
      "0.4810925546879187\n"
     ]
    }
   ],
   "source": [
    "# Calculating the gini index for all the hosueholds below the poverty line\n",
    "ex4_gini = gini(your_array)\n",
    "poverty_line = 20000\n",
    "ex4_share_below_poverty = your_array[your_array < poverty_line]\n",
    "print(ex4_share_below_poverty)\n",
    "print(ex4_gini)"
   ]
  },
  {
   "cell_type": "markdown",
   "id": "c6ef5888",
   "metadata": {},
   "source": [
    "We compared the gini index to other countries and it at position 20 from the top, coming in close to countries like Honduras."
   ]
  },
  {
   "cell_type": "code",
   "execution_count": null,
   "id": "9a2fb1f7",
   "metadata": {},
   "outputs": [],
   "source": [
    "# Calculating the gini index for households below 40k and 30k\n",
    "results = {}\n",
    "ex6_gini_policy_a = gini(your_array[your_array < 40000])\n",
    "ex6_gini_policy_b = gini(your_array[your_array < 30000])\n",
    "results[\"ex6_gini_policy_a\"] = ex6_gini_policy_a\n",
    "results[\"ex6_gini_policy_b\"] = ex6_gini_policy_b\n",
    "# Storing the results of the lower gini index policy in results\n",
    "results[\"ex6_gini_which_reduced_more\"] = \"Policy A\"\n",
    "experiment1 = your_array.copy()"
   ]
  },
  {
   "cell_type": "markdown",
   "id": "f01d1344",
   "metadata": {},
   "source": [
    "Policy A is lower so it is a better policy and more equal."
   ]
  },
  {
   "cell_type": "code",
   "execution_count": null,
   "id": "10863aaa",
   "metadata": {},
   "outputs": [
    {
     "name": "stdout",
     "output_type": "stream",
     "text": [
      "0.20253166782390997\n"
     ]
    }
   ],
   "source": [
    "# Taking 5% tax from all people with annual income above $250k\n",
    "ex7_gini_policy_c = gini(your_array[your_array > 250000] * 0.05)\n",
    "print(ex7_gini_policy_c)"
   ]
  },
  {
   "cell_type": "markdown",
   "id": "a2106836",
   "metadata": {},
   "source": [
    "This gini index is way lower than Policy A and B  which makes it a more equal policy."
   ]
  },
  {
   "cell_type": "code",
   "execution_count": null,
   "id": "75539720",
   "metadata": {},
   "outputs": [
    {
     "name": "stdout",
     "output_type": "stream",
     "text": [
      "929623340.8499994\n"
     ]
    }
   ],
   "source": [
    "# Summing the total tax collected from all people with annual income above $250k\n",
    "ex8_policy_d = sum(your_array[your_array > 250000] * 0.05)\n",
    "print(ex8_policy_d)\n",
    "results[\"ex8_revenue_raised\"] = ex8_policy_d"
   ]
  },
  {
   "cell_type": "code",
   "execution_count": null,
   "id": "dbe3e52b",
   "metadata": {},
   "outputs": [
    {
     "name": "stdout",
     "output_type": "stream",
     "text": [
      "{'ex6_gini_policy_a': np.float64(0.3057812804966173), 'ex6_gini_policy_b': np.float64(0.30722452878540046), 'ex6_gini_which_reduced_more': 'Policy A', 'ex8_revenue_raised': np.float64(929623340.8499994), 'ex9_transfer': 220906}\n"
     ]
    }
   ],
   "source": [
    "# Calculating the average tax distrubted to people with annual income less than $30k\n",
    "ex9 = your_array[your_array < 30000]\n",
    "results[\"ex9_transfer\"] = ex9.size\n",
    "print(results)\n",
    "avg = ex8_policy_d / ex9.size"
   ]
  },
  {
   "cell_type": "code",
   "execution_count": null,
   "id": "112e166a",
   "metadata": {},
   "outputs": [
    {
     "name": "stdout",
     "output_type": "stream",
     "text": [
      "[509500.2  395028.05 308979.9  ... 237789.75 384426.05 387087.  ]\n",
      "0.14961673823434893\n"
     ]
    }
   ],
   "source": [
    "# Assigning the tax collected to the lower income households\n",
    "ex10 = your_array[your_array > 250000] * 0.95\n",
    "print(ex10)\n",
    "ex9 += avg\n",
    "ex10_gini_policy_d = gini(ex9)\n",
    "print(ex10_gini_policy_d)"
   ]
  },
  {
   "cell_type": "code",
   "execution_count": null,
   "id": "682c6051",
   "metadata": {},
   "outputs": [
    {
     "name": "stdout",
     "output_type": "stream",
     "text": [
      "0.26695580321050083\n"
     ]
    }
   ],
   "source": [
    "# Calculating the average tax distrubted to people with annual income less than $40k\n",
    "ex11 = your_array[your_array < 40000]\n",
    "avg = ex8_policy_d / ex11.size\n",
    "# Assigning the tax collected to the lower income households\n",
    "ex11 += avg\n",
    "ex11_gini_policy_e = gini(ex11)\n",
    "print(ex11_gini_policy_e)"
   ]
  },
  {
   "cell_type": "markdown",
   "id": "fa8548cd",
   "metadata": {},
   "source": [
    "Policy D is much better as it has a very small gini index actually close to 0. It is smaller than Gini index of Policy E."
   ]
  },
  {
   "cell_type": "code",
   "execution_count": null,
   "id": "17a94f35",
   "metadata": {},
   "outputs": [],
   "source": [
    "# Storing the recommended policy to results\n",
    "results[\"ex12_policy_recommendation\"] = \"Policy D\""
   ]
  }
 ],
 "metadata": {
  "kernelspec": {
   "display_name": "base",
   "language": "python",
   "name": "python3"
  },
  "language_info": {
   "codemirror_mode": {
    "name": "ipython",
    "version": 3
   },
   "file_extension": ".py",
   "mimetype": "text/x-python",
   "name": "python",
   "nbconvert_exporter": "python",
   "pygments_lexer": "ipython3",
   "version": "3.10.18"
  }
 },
 "nbformat": 4,
 "nbformat_minor": 5
}
