{
 "cells": [
  {
   "cell_type": "markdown",
   "id": "2cb39a9d",
   "metadata": {},
   "source": [
    "#Inequality Indexes according to the U.S. Census Bureau in 2019\n"
   ]
  },
  {
   "cell_type": "code",
   "execution_count": 2,
   "id": "2be114cd",
   "metadata": {},
   "outputs": [],
   "source": [
    "# importing the libraries\n",
    "import numpy as np\n",
    "import array\n",
    "from matplotlib import pyplot as plt\n",
    "from ineqpy.inequality import gini"
   ]
  },
  {
   "cell_type": "code",
   "execution_count": 3,
   "id": "105dca03",
   "metadata": {},
   "outputs": [
    {
     "name": "stdout",
     "output_type": "stream",
     "text": [
      "float64\n"
     ]
    },
    {
     "data": {
      "image/png": "[encoded data removed]",
      "text/plain": [
       "<Figure size 640x480 with 1 Axes>"
      ]
     },
     "metadata": {},
     "output_type": "display_data"
    }
   ],
   "source": [
    "# fetch the data and visualizing it\n",
    "your_array = np.loadtxt(\n",
    "    \"https://raw.githubusercontent.com/nickeubank/practicaldatascience/master/Example_Data/us_household_incomes.txt\"\n",
    ")\n",
    "plt.hist(your_array)\n",
    "print(your_array.dtype.name)"
   ]
  },
  {
   "cell_type": "markdown",
   "id": "cf8ccd7b",
   "metadata": {},
   "source": [
    "\n",
    "This is not a normal distribution, not uniform either. It is not equal, the graph is right skewed meaning there are top earners condensed in that range."
   ]
  },
  {
   "cell_type": "code",
   "execution_count": 4,
   "id": "915903d2",
   "metadata": {},
   "outputs": [
    {
     "name": "stdout",
     "output_type": "stream",
     "text": [
      "The gini index for the US below the poverty line is: 0.481\n"
     ]
    }
   ],
   "source": [
    "# Calculating the gini index for all the hosueholds below the poverty line\n",
    "results = {}\n",
    "ex4_gini = gini(your_array)\n",
    "poverty_line = 20000\n",
    "ex4_share_below_poverty = your_array[your_array < poverty_line]\n",
    "\n",
    "results[\"ex4_share_below_poverty\"] = ex4_share_below_poverty.size / your_array.size\n",
    "print(f\"The gini index for the US below the poverty line is: {ex4_gini:.3f}\")\n",
    "results[\"ex4_gini\"] = ex4_gini"
   ]
  },
  {
   "cell_type": "markdown",
   "id": "c6ef5888",
   "metadata": {},
   "source": [
    "We compared the gini index of the US to other countries and it at position 20 from the top, coming in close to countries like Honduras. The gini index came in at 0.48."
   ]
  },
  {
   "cell_type": "code",
   "execution_count": 5,
   "id": "9a2fb1f7",
   "metadata": {},
   "outputs": [
    {
     "name": "stdout",
     "output_type": "stream",
     "text": [
      "The Gini Index of Policy A is:  0.460\n",
      "The Gini Index of Policy B is:  0.458\n"
     ]
    }
   ],
   "source": [
    "# Calculating the gini index for households below 40k and 30k\n",
    "copy1_a = your_array.copy()\n",
    "copy1_b = your_array.copy()\n",
    "copy1_a[copy1_a < 40000] += 5000\n",
    "ex6_gini_policy_a = gini(copy1_a)\n",
    "copy1_b[copy1_b < 30000] += 7000\n",
    "ex6_gini_policy_b = gini(copy1_b)\n",
    "results[\"ex6_gini_policy_a\"] = ex6_gini_policy_a\n",
    "results[\"ex6_gini_policy_b\"] = ex6_gini_policy_b\n",
    "# Storing the results of the lower gini index policy in results\n",
    "results[\"ex6_gini_which_reduced_more\"] = \"Policy B\"\n",
    "experiment1 = your_array.copy()\n",
    "print(f\"The Gini Index of Policy A is: {ex6_gini_policy_a: .3f}\")\n",
    "print(f\"The Gini Index of Policy B is: {ex6_gini_policy_b: .3f}\")"
   ]
  },
  {
   "cell_type": "markdown",
   "id": "f01d1344",
   "metadata": {},
   "source": [
    "Policy B is lower so it is a better policy and more equal."
   ]
  },
  {
   "cell_type": "code",
   "execution_count": 6,
   "id": "10863aaa",
   "metadata": {},
   "outputs": [
    {
     "name": "stdout",
     "output_type": "stream",
     "text": [
      "The Gini Index of Policy C is: 0.476\n"
     ]
    }
   ],
   "source": [
    "# Taking 5% tax from all people with annual income above $250k\n",
    "copy3 = your_array.copy()\n",
    "copy3[copy3 > 250000] *= 0.95\n",
    "ex7_gini_policy_c = gini(copy3)\n",
    "print(f\"The Gini Index of Policy C is: {ex7_gini_policy_c:.3f}\")\n",
    "results[\"ex7_gini_policy_c\"] = ex7_gini_policy_c"
   ]
  },
  {
   "cell_type": "markdown",
   "id": "a2106836",
   "metadata": {},
   "source": [
    "This gini index is way lower than Policy A and B  which makes it a more equal policy."
   ]
  },
  {
   "cell_type": "code",
   "execution_count": 7,
   "id": "75539720",
   "metadata": {},
   "outputs": [
    {
     "name": "stdout",
     "output_type": "stream",
     "text": [
      "The Sum of the tax collected is: 929623340.850\n"
     ]
    }
   ],
   "source": [
    "# Summing the total tax collected from all people with annual income above $250k\n",
    "ex8_policy_d = sum(your_array[your_array > 250000] * 0.05)\n",
    "print(f\"The Sum of the tax collected is: {ex8_policy_d:.3f}\")\n",
    "results[\"ex8_revenue_raised\"] = ex8_policy_d"
   ]
  },
  {
   "cell_type": "code",
   "execution_count": 8,
   "id": "dbe3e52b",
   "metadata": {},
   "outputs": [],
   "source": [
    "# Calculating the average tax distrubted to people with annual income less than $30k\n",
    "ex9 = your_array[your_array < 30000]\n",
    "avg = ex8_policy_d / ex9.size\n",
    "results[\"ex9_transfers\"] = avg"
   ]
  },
  {
   "cell_type": "code",
   "execution_count": 9,
   "id": "112e166a",
   "metadata": {},
   "outputs": [
    {
     "name": "stdout",
     "output_type": "stream",
     "text": [
      "The Gini Index of Policy D is: 0.462\n"
     ]
    }
   ],
   "source": [
    "# Assigning the tax collected to the lower income households\n",
    "copy2 = your_array.copy()\n",
    "copy2[copy2 > 250000] *= 0.95\n",
    "copy2[copy2 < 30000] += avg\n",
    "ex10_gini_policy_d = gini(copy2)\n",
    "print(f\"The Gini Index of Policy D is: {ex10_gini_policy_d:.3f}\")\n",
    "results[\"ex10_gini_policy_d\"] = ex10_gini_policy_d"
   ]
  },
  {
   "cell_type": "code",
   "execution_count": 10,
   "id": "682c6051",
   "metadata": {},
   "outputs": [
    {
     "name": "stdout",
     "output_type": "stream",
     "text": [
      "The Gini Index of Policy E is: 0.463\n"
     ]
    }
   ],
   "source": [
    "# Calculating the average tax distrubted to people with annual income less than $40k\n",
    "copy4 = your_array.copy()\n",
    "ex11 = copy4[copy4 < 40000]\n",
    "avg = ex8_policy_d / ex11.size\n",
    "copy4[copy4 > 250000] *= 0.95\n",
    "copy4[copy4 < 40000] += avg\n",
    "# Assigning the tax collected to the lower income households\n",
    "ex11_gini_policy_e = gini(copy4)\n",
    "print(f\"The Gini Index of Policy E is: {ex11_gini_policy_e:.3f}\")\n",
    "results[\"ex11_gini_policy_e\"] = ex11_gini_policy_e"
   ]
  },
  {
   "cell_type": "markdown",
   "id": "fa8548cd",
   "metadata": {},
   "source": [
    "Policy D is much better as it has a gini index of 0.462. It is smaller than Gini index of Policy E which is 0.468."
   ]
  },
  {
   "cell_type": "code",
   "execution_count": 11,
   "id": "17a94f35",
   "metadata": {},
   "outputs": [],
   "source": [
    "# Storing the recommended policy to results\n",
    "results[\"ex12_policy_recommendation\"] = \"Policy D\""
   ]
  }
 ],
 "metadata": {
  "kernelspec": {
   "display_name": ".venv (3.11.3)",
   "language": "python",
   "name": "python3"
  },
  "language_info": {
   "codemirror_mode": {
    "name": "ipython",
    "version": 3
   },
   "file_extension": ".py",
   "mimetype": "text/x-python",
   "name": "python",
   "nbconvert_exporter": "python",
   "pygments_lexer": "ipython3",
   "version": "3.11.3"
  }
 },
 "nbformat": 4,
 "nbformat_minor": 5
}
